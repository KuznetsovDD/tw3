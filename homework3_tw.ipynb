{
 "cells": [
  {
   "cell_type": "code",
   "execution_count": 16,
   "metadata": {},
   "outputs": [],
   "source": [
    "import numpy as np\n",
    "from math import factorial as f\n"
   ]
  },
  {
   "cell_type": "code",
   "execution_count": 17,
   "metadata": {},
   "outputs": [],
   "source": [
    "def wer(a,b):\n",
    "    return f(a) / (f(b) * f(a-b))"
   ]
  },
  {
   "cell_type": "markdown",
   "metadata": {},
   "source": [
    "1. Даны значения зарплат из выборки выпускников: 100, 80, 75, 77, 89, 33, 45, 25, 65, 17, 30, 24, 57, 55, 70, 75, 65, 84, 90, 150. Посчитать (желательно без использования статистических методов наподобие std, var, mean) среднее арифметическое, среднее квадратичное отклонение, смещенную и несмещенную оценки дисперсий для данной выборки."
   ]
  },
  {
   "cell_type": "code",
   "execution_count": 18,
   "metadata": {},
   "outputs": [],
   "source": [
    "salary = np.array([100, 80, 75, 77, 89, 33, 45, 25, 65, 17, 30, 24, 57, 55, 70, 75, 65, 84, 90, 150])\n"
   ]
  },
  {
   "cell_type": "markdown",
   "metadata": {},
   "source": [
    "среднее арифметическое = 65.3"
   ]
  },
  {
   "cell_type": "code",
   "execution_count": 19,
   "metadata": {},
   "outputs": [
    {
     "data": {
      "text/plain": [
       "65.3"
      ]
     },
     "execution_count": 19,
     "metadata": {},
     "output_type": "execute_result"
    }
   ],
   "source": [
    "arith_mean = salary.sum()/salary.size\n",
    "arith_mean"
   ]
  },
  {
   "cell_type": "markdown",
   "metadata": {},
   "source": [
    "среднее квадратичное отклонение = 30.823854398825596"
   ]
  },
  {
   "cell_type": "code",
   "execution_count": 20,
   "metadata": {},
   "outputs": [
    {
     "data": {
      "text/plain": [
       "30.823854398825596"
      ]
     },
     "execution_count": 20,
     "metadata": {},
     "output_type": "execute_result"
    }
   ],
   "source": [
    "SKR = (np.sum((salary - arith_mean)**2) / salary.size)**0.5\n",
    "SKR"
   ]
  },
  {
   "cell_type": "markdown",
   "metadata": {},
   "source": [
    "смещеннaя оценка дисперсии = 950.11\n",
    "несмещенная оценка дисперсии = 1000.1157894736842\n"
   ]
  },
  {
   "cell_type": "code",
   "execution_count": 21,
   "metadata": {},
   "outputs": [
    {
     "data": {
      "text/plain": [
       "950.11"
      ]
     },
     "execution_count": 21,
     "metadata": {},
     "output_type": "execute_result"
    }
   ],
   "source": [
    "a = np.sum((salary - arith_mean)**2) / salary.size\n",
    "a\n"
   ]
  },
  {
   "cell_type": "code",
   "execution_count": 22,
   "metadata": {},
   "outputs": [
    {
     "data": {
      "text/plain": [
       "1000.1157894736842"
      ]
     },
     "execution_count": 22,
     "metadata": {},
     "output_type": "execute_result"
    }
   ],
   "source": [
    "b = np.sum((salary - arith_mean)**2) / (salary.size -1)\n",
    "b"
   ]
  },
  {
   "cell_type": "markdown",
   "metadata": {},
   "source": [
    "2. В первом ящике находится 8 мячей, из которых 5 - белые. Во втором ящике - 12 мячей, из которых 5 белых. Из первого ящика вытаскивают случайным образом два мяча, из второго - 4. Какова вероятность того, что 3 мяча белые?"
   ]
  },
  {
   "cell_type": "code",
   "execution_count": 24,
   "metadata": {},
   "outputs": [
    {
     "ename": "ValueError",
     "evalue": "factorial() not defined for negative values",
     "output_type": "error",
     "traceback": [
      "\u001b[1;31m---------------------------------------------------------------------------\u001b[0m",
      "\u001b[1;31mValueError\u001b[0m                                Traceback (most recent call last)",
      "Cell \u001b[1;32mIn[24], line 1\u001b[0m\n\u001b[1;32m----> 1\u001b[0m result \u001b[39m=\u001b[39m ((wer(\u001b[39m2\u001b[39;49m,\u001b[39m3\u001b[39;49m) \u001b[39m*\u001b[39m wer(\u001b[39m0\u001b[39m, \u001b[39m5\u001b[39m))\u001b[39m/\u001b[39m wer(\u001b[39m2\u001b[39m,\u001b[39m8\u001b[39m))\u001b[39m*\u001b[39m ((wer(\u001b[39m3\u001b[39m, \u001b[39m5\u001b[39m) \u001b[39m*\u001b[39m wer(\u001b[39m0\u001b[39m, \u001b[39m7\u001b[39m))\u001b[39m/\u001b[39mwer(\u001b[39m4\u001b[39m, \u001b[39m12\u001b[39m)) \u001b[39m+\u001b[39m ((wer(\u001b[39m1\u001b[39m,\u001b[39m3\u001b[39m) \u001b[39m*\u001b[39m wer(\u001b[39m1\u001b[39m, \u001b[39m5\u001b[39m))\u001b[39m/\u001b[39m wer(\u001b[39m2\u001b[39m,\u001b[39m8\u001b[39m))\u001b[39m*\u001b[39m ((wer(\u001b[39m2\u001b[39m, \u001b[39m5\u001b[39m) \u001b[39m*\u001b[39m wer(\u001b[39m1\u001b[39m, \u001b[39m7\u001b[39m))\u001b[39m/\u001b[39mwer(\u001b[39m4\u001b[39m, \u001b[39m12\u001b[39m)) \u001b[39m+\u001b[39m ((wer(\u001b[39m0\u001b[39m,\u001b[39m3\u001b[39m) \u001b[39m*\u001b[39m wer(\u001b[39m2\u001b[39m, \u001b[39m5\u001b[39m))\u001b[39m/\u001b[39m wer(\u001b[39m2\u001b[39m,\u001b[39m8\u001b[39m))\u001b[39m*\u001b[39m ((wer(\u001b[39m1\u001b[39m, \u001b[39m5\u001b[39m) \u001b[39m*\u001b[39m wer(\u001b[39m2\u001b[39m, \u001b[39m7\u001b[39m))\u001b[39m/\u001b[39mwer(\u001b[39m4\u001b[39m, \u001b[39m12\u001b[39m))\n\u001b[0;32m      2\u001b[0m result\n",
      "Cell \u001b[1;32mIn[17], line 2\u001b[0m, in \u001b[0;36mwer\u001b[1;34m(a, b)\u001b[0m\n\u001b[0;32m      1\u001b[0m \u001b[39mdef\u001b[39;00m \u001b[39mwer\u001b[39m(a,b):\n\u001b[1;32m----> 2\u001b[0m     \u001b[39mreturn\u001b[39;00m f(a) \u001b[39m/\u001b[39m (f(b) \u001b[39m*\u001b[39m f(a\u001b[39m-\u001b[39;49mb))\n",
      "\u001b[1;31mValueError\u001b[0m: factorial() not defined for negative values"
     ]
    }
   ],
   "source": [
    "result = ((wer(2,3) * wer(0, 5))/ wer(2,8))* ((wer(3, 5) * wer(0, 7))/wer(4, 12)) \n",
    "+ ((wer(1,3) * wer(1, 5))/ wer(2,8))* ((wer(2, 5) * wer(1, 7))/wer(4, 12)) \n",
    "+ ((wer(0,3) * wer(2, 5))/ wer(2,8))* ((wer(1, 5) * wer(2, 7))/wer(4, 12))\n",
    "result\n"
   ]
  },
  {
   "cell_type": "markdown",
   "metadata": {},
   "source": [
    "3. На соревновании по биатлону один из трех спортсменов стреляет и попадает в мишень. Вероятность попадания для первого спортсмена равна 0.9, для второго — 0.8, для третьего — 0.6. Найти вероятность того, что выстрел произведен: a). первым спортсменом б). вторым спортсменом в). третьим спортсменом."
   ]
  },
  {
   "cell_type": "code",
   "execution_count": 25,
   "metadata": {},
   "outputs": [
    {
     "data": {
      "text/plain": [
       "0.7666666666666666"
      ]
     },
     "execution_count": 25,
     "metadata": {},
     "output_type": "execute_result"
    }
   ],
   "source": [
    "A = 1/3 * 0.9 + 1/3 * 0.8 + 1/3 * 0.6\n",
    "A"
   ]
  },
  {
   "cell_type": "markdown",
   "metadata": {},
   "source": [
    "a). первым спортсменом 0.391304347826087"
   ]
  },
  {
   "cell_type": "code",
   "execution_count": 26,
   "metadata": {},
   "outputs": [
    {
     "data": {
      "text/plain": [
       "0.391304347826087"
      ]
     },
     "execution_count": 26,
     "metadata": {},
     "output_type": "execute_result"
    }
   ],
   "source": [
    "(1/3 * 0.9) / A "
   ]
  },
  {
   "cell_type": "markdown",
   "metadata": {},
   "source": [
    "b). вторым спортсменом  0.3478260869565218"
   ]
  },
  {
   "cell_type": "code",
   "execution_count": 27,
   "metadata": {},
   "outputs": [
    {
     "data": {
      "text/plain": [
       "0.3478260869565218"
      ]
     },
     "execution_count": 27,
     "metadata": {},
     "output_type": "execute_result"
    }
   ],
   "source": [
    "(1/3 * 0.8) / A "
   ]
  },
  {
   "cell_type": "markdown",
   "metadata": {},
   "source": [
    "в). третьим спортсменом 0.3478260869565218"
   ]
  },
  {
   "cell_type": "code",
   "execution_count": 28,
   "metadata": {},
   "outputs": [
    {
     "data": {
      "text/plain": [
       "0.3478260869565218"
      ]
     },
     "execution_count": 28,
     "metadata": {},
     "output_type": "execute_result"
    }
   ],
   "source": [
    "(1/3 * 0.8) / A"
   ]
  },
  {
   "cell_type": "markdown",
   "metadata": {},
   "source": [
    "3. В университет на факультеты A и B поступило равное количество студентов, а на факультет C студентов поступило столько же, сколько на A и B вместе. Вероятность того, что студент факультета A сдаст первую сессию, равна 0.8. Для студента факультета B эта вероятность равна 0.7, а для студента факультета C - 0.9. Студент сдал первую сессию. Какова вероятность, что он учится: a). на факультете A б). на факультете B в). на факультете C?"
   ]
  },
  {
   "cell_type": "code",
   "execution_count": null,
   "metadata": {},
   "outputs": [],
   "source": []
  }
 ],
 "metadata": {
  "kernelspec": {
   "display_name": "Python 3",
   "language": "python",
   "name": "python3"
  },
  "language_info": {
   "codemirror_mode": {
    "name": "ipython",
    "version": 3
   },
   "file_extension": ".py",
   "mimetype": "text/x-python",
   "name": "python",
   "nbconvert_exporter": "python",
   "pygments_lexer": "ipython3",
   "version": "3.11.1"
  },
  "orig_nbformat": 4
 },
 "nbformat": 4,
 "nbformat_minor": 2
}
